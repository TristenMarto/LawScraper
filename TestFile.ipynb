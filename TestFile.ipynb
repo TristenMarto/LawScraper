{
 "cells": [
  {
   "cell_type": "code",
   "execution_count": 64,
   "metadata": {},
   "outputs": [],
   "source": [
    "import urllib.request\n",
    "from urllib.parse import urlparse\n",
    "from bs4 import BeautifulSoup as bs\n",
    "from selenium import webdriver\n",
    "import time"
   ]
  },
  {
   "cell_type": "code",
   "execution_count": 2,
   "metadata": {},
   "outputs": [],
   "source": [
    "lawsite = \"https://uitspraken.rechtspraak.nl/#zoekverfijn/zt[0][zt]=\\\"52a+AWR\\\"&zt[0][fi]=AlleVelden&zt[0][ft]=Alle+velden&so=Relevance&ps[]=ps1&idx=1\"\n"
   ]
  },
  {
   "cell_type": "code",
   "execution_count": 219,
   "metadata": {},
   "outputs": [],
   "source": [
    "def get_scraping(url) :\n",
    "\n",
    "    driver = webdriver.Chrome()\n",
    "    driver.get(url)\n",
    "    time.sleep(3)\n",
    "        \n",
    "    print(\"Loading page...\")    \n",
    "    \n",
    "    while True :\n",
    "        try :\n",
    "            loadmorebutton = driver.find_element_by_xpath('//*[@id=\"laadmeer\"]')\n",
    "            time.sleep(.1)\n",
    "            loadmorebutton.click()\n",
    "        except Exception as e :\n",
    "            print(e)\n",
    "            break\n",
    "    \n",
    "    time.sleep(2)\n",
    "    \n",
    "    soup = bs(driver.page_source, 'html.parser')\n",
    "    \n",
    "    items = soup.findAll(\"div\", {\"class\":\"zoekresultaatItem\"})\n",
    "    \n",
    "    print(f\"Found {len(items)} articles from link.\")\n",
    "              \n",
    "    res = []\n",
    "    \n",
    "    for item in items :\n",
    "        \n",
    "        for count, i in enumerate(items[0].dl.find_all('dt')) :\n",
    "\n",
    "            if i.text == 'Datum uitspraak:' :\n",
    "                datum = item.find_all(\"dd\")[count].text\n",
    "\n",
    "            if i.text == 'Vindplaatsen:' :\n",
    "                plaatsen = item.find_all(\"dd\")[count].text\n",
    "                \n",
    "            if i.text == 'Bijzondere kenmerken:' :\n",
    "                bzken = item.find_all(\"dd\")[count].text\n",
    "          \n",
    "        f_dict = {\n",
    "            'ECLI': item.a['title'].split()[0],\n",
    "            'Instantie': item.a['title'].split(\",\", maxsplit=1)[0].split(maxsplit=1)[1], \n",
    "            'Datum': datum,\n",
    "            'Bijzonder kenmerk': bzken,\n",
    "            'Vindplaats': plaatsen, \n",
    "            'Link':item.a['href']\n",
    "        }\n",
    "          \n",
    "        res.append(f_dict)\n",
    "        \n",
    "    \n",
    "    final = pd.DataFrame(res)\n",
    "    \n",
    "    print(f\"Exported to excel.\")\n",
    "    \n",
    "    final.to_excel(\"res.xlsx\")\n",
    "             \n",
    "    "
   ]
  },
  {
   "cell_type": "code",
   "execution_count": 220,
   "metadata": {},
   "outputs": [
    {
     "name": "stdout",
     "output_type": "stream",
     "text": [
      "Loading page...\n",
      "Message: element not interactable\n",
      "  (Session info: chrome=90.0.4430.212)\n",
      "\n",
      "Found 239 articles from link.\n",
      "Exported to excel.\n"
     ]
    }
   ],
   "source": [
    "get_scraping(lawsite)"
   ]
  },
  {
   "cell_type": "code",
   "execution_count": null,
   "metadata": {},
   "outputs": [],
   "source": []
  },
  {
   "cell_type": "code",
   "execution_count": null,
   "metadata": {},
   "outputs": [],
   "source": []
  },
  {
   "cell_type": "code",
   "execution_count": null,
   "metadata": {},
   "outputs": [],
   "source": []
  },
  {
   "cell_type": "code",
   "execution_count": 141,
   "metadata": {},
   "outputs": [],
   "source": [
    "driver = webdriver.Chrome()\n",
    "driver.get(lawsite)\n",
    "time.sleep(1)\n",
    "\n",
    "\n",
    "soup = bs(driver.page_source, 'html.parser')"
   ]
  },
  {
   "cell_type": "code",
   "execution_count": 144,
   "metadata": {
    "scrolled": true
   },
   "outputs": [],
   "source": [
    "items = soup.findAll('div', {\"class\":\"zoekresultaatItem\"})"
   ]
  },
  {
   "cell_type": "code",
   "execution_count": 202,
   "metadata": {},
   "outputs": [
    {
     "data": {
      "text/plain": [
       "<dl class=\"dl-horizontal\">\n",
       "<dt>Datum uitspraak:</dt>\n",
       "<dd>\n",
       "            15-03-2018\n",
       "        </dd>\n",
       "<dt>Datum publicatie:</dt>\n",
       "<dd>\n",
       "            \n",
       "            \n",
       "            \n",
       "\n",
       "            26-10-2018\n",
       "\n",
       "            \n",
       "            \n",
       "            \n",
       "        </dd>\n",
       "<dt class=\"relatieBlok\">\n",
       "            Formele relaties:\n",
       "        </dt>\n",
       "<dd>\n",
       "<p>Hoger beroep: <a href=\"https://uitspraken.rechtspraak.nl/inziendocument?id=ECLI:NL:GHDHA:2019:1729&amp;showbutton=true&amp;keyword=%2252a+AWR%22\" target=\"_blank\">ECLI:NL:GHDHA:2019:1729</a>, (Gedeeltelijke) vernietiging en zelf afgedaan</p>\n",
       "</dd>\n",
       "<dt>Rechtsgebieden:</dt>\n",
       "<dd>\n",
       "            \n",
       "             Belastingrecht\n",
       "            \n",
       "        </dd>\n",
       "<dt>Bijzondere kenmerken:</dt>\n",
       "<dd>\n",
       "            \n",
       "            Eerste aanleg - enkelvoudig\n",
       "            \n",
       "        </dd>\n",
       "<dt>Vindplaatsen:</dt>\n",
       "<dd>\n",
       "            \n",
       "            \n",
       "            FutD 2018-2839 <br/>\n",
       "            \n",
       "            NLF 2018/2363 <br/>\n",
       "            \n",
       "            Viditax (FutD), 26-10-2018 <br/>\n",
       "            \n",
       "            V-N Vandaag 2018/2350 <br/>\n",
       "            \n",
       "            NTFR 2018/2655 <br/>\n",
       "            \n",
       "            Rechtspraak.nl <br/>\n",
       "</dd>\n",
       "<dt>Inhoudsindicatie:</dt>\n",
       "<dd>\n",
       "            \n",
       "            art. 52 en 52a Awr, informatiebeschikking \n",
       "            \n",
       "        </dd>\n",
       "</dl>"
      ]
     },
     "execution_count": 202,
     "metadata": {},
     "output_type": "execute_result"
    }
   ],
   "source": [
    "items[0].dl.find"
   ]
  },
  {
   "cell_type": "code",
   "execution_count": 208,
   "metadata": {},
   "outputs": [
    {
     "name": "stdout",
     "output_type": "stream",
     "text": [
      "0 <dt>Datum uitspraak:</dt>\n",
      "\n",
      "            15-03-2018\n",
      "        \n",
      "1 <dt>Datum publicatie:</dt>\n",
      "2 <dt class=\"relatieBlok\">\n",
      "            Formele relaties:\n",
      "        </dt>\n",
      "3 <dt>Rechtsgebieden:</dt>\n",
      "4 <dt>Bijzondere kenmerken:</dt>\n",
      "5 <dt>Vindplaatsen:</dt>\n",
      "\n",
      "            \n",
      "            \n",
      "            FutD 2018-2839 \n",
      "            \n",
      "            NLF 2018/2363 \n",
      "            \n",
      "            Viditax (FutD), 26-10-2018 \n",
      "            \n",
      "            V-N Vandaag 2018/2350 \n",
      "            \n",
      "            NTFR 2018/2655 \n",
      "            \n",
      "            Rechtspraak.nl \n",
      "\n",
      "6 <dt>Inhoudsindicatie:</dt>\n"
     ]
    }
   ],
   "source": [
    "for count, i in enumerate(items[0].dl.find_all('dt')) :\n",
    "    print(count, i)\n",
    "    \n",
    "    if i.text == 'Datum uitspraak:' :\n",
    "        print(items[0].find_all(\"dd\")[count].text)\n",
    "        \n",
    "    if i.text == 'Vindplaatsen:' :\n",
    "        print(items[0].find_all(\"dd\")[count].text)"
   ]
  },
  {
   "cell_type": "code",
   "execution_count": 206,
   "metadata": {},
   "outputs": [
    {
     "data": {
      "text/plain": [
       "<dd>\n",
       "            \n",
       "            \n",
       "            \n",
       "\n",
       "            26-10-2018\n",
       "\n",
       "            \n",
       "            \n",
       "            \n",
       "        </dd>"
      ]
     },
     "execution_count": 206,
     "metadata": {},
     "output_type": "execute_result"
    }
   ],
   "source": [
    "items[0].dl.find_all('dd')[1]"
   ]
  },
  {
   "cell_type": "code",
   "execution_count": 183,
   "metadata": {},
   "outputs": [
    {
     "name": "stdout",
     "output_type": "stream",
     "text": [
      "0 \n",
      "\n",
      "1 <dt>Datum uitspraak:</dt>\n",
      "2 \n",
      "\n",
      "3 <dd>\n",
      "            15-03-2018\n",
      "        </dd>\n",
      "4 \n",
      "\n",
      "5 <dt>Datum publicatie:</dt>\n",
      "6 \n",
      "\n",
      "7 <dd>\n",
      "            \n",
      "            \n",
      "            \n",
      "\n",
      "            26-10-2018\n",
      "\n",
      "            \n",
      "            \n",
      "            \n",
      "        </dd>\n",
      "8 \n",
      "\n",
      "9 <dt class=\"relatieBlok\">\n",
      "            Formele relaties:\n",
      "        </dt>\n",
      "10 \n",
      "\n",
      "11 <dd>\n",
      "<p>Hoger beroep: <a href=\"https://uitspraken.rechtspraak.nl/inziendocument?id=ECLI:NL:GHDHA:2019:1729&amp;showbutton=true&amp;keyword=%2252a+AWR%22\" target=\"_blank\">ECLI:NL:GHDHA:2019:1729</a>, (Gedeeltelijke) vernietiging en zelf afgedaan</p>\n",
      "</dd>\n",
      "12 \n",
      "\n",
      "13 <dt>Rechtsgebieden:</dt>\n",
      "14 \n",
      "\n",
      "15 <dd>\n",
      "            \n",
      "             Belastingrecht\n",
      "            \n",
      "        </dd>\n",
      "16 \n",
      "\n",
      "17 <dt>Bijzondere kenmerken:</dt>\n",
      "18 \n",
      "\n",
      "19 <dd>\n",
      "            \n",
      "            Eerste aanleg - enkelvoudig\n",
      "            \n",
      "        </dd>\n",
      "20 \n",
      "\n",
      "21 <dt>Vindplaatsen:</dt>\n",
      "22 \n",
      "\n",
      "23 <dd>\n",
      "            \n",
      "            \n",
      "            FutD 2018-2839 <br/>\n",
      "            \n",
      "            NLF 2018/2363 <br/>\n",
      "            \n",
      "            Viditax (FutD), 26-10-2018 <br/>\n",
      "            \n",
      "            V-N Vandaag 2018/2350 <br/>\n",
      "            \n",
      "            NTFR 2018/2655 <br/>\n",
      "            \n",
      "            Rechtspraak.nl <br/>\n",
      "</dd>\n",
      "24 \n",
      "\n",
      "25 <dt>Inhoudsindicatie:</dt>\n",
      "26 \n",
      "\n",
      "27 <dd>\n",
      "            \n",
      "            art. 52 en 52a Awr, informatiebeschikking \n",
      "            \n",
      "        </dd>\n",
      "28 \n",
      "\n"
     ]
    }
   ],
   "source": [
    "\n",
    "for i,j in enumerate(items[0].dl) :\n",
    "    print(i,j)\n",
    "    \n",
    "    if i.text == 'Datum uitspraak:' :\n",
    "        datum_u = "
   ]
  },
  {
   "cell_type": "code",
   "execution_count": 179,
   "metadata": {},
   "outputs": [
    {
     "data": {
      "text/plain": [
       "'Rechtbank Den Haag'"
      ]
     },
     "execution_count": 179,
     "metadata": {},
     "output_type": "execute_result"
    }
   ],
   "source": [
    "items[0].a['title'].split(\",\", maxsplit=1)[0].split(maxsplit=1)[1]"
   ]
  },
  {
   "cell_type": "code",
   "execution_count": 97,
   "metadata": {},
   "outputs": [
    {
     "data": {
      "text/plain": [
       "'\\n            15-03-2018\\n        '"
      ]
     },
     "execution_count": 97,
     "metadata": {},
     "output_type": "execute_result"
    }
   ],
   "source": [
    "items[0].dl.find_all('dd')[0].text"
   ]
  },
  {
   "cell_type": "code",
   "execution_count": 113,
   "metadata": {},
   "outputs": [
    {
     "data": {
      "text/plain": [
       "'Hoger beroep: ECLI:NL:GHDHA:2019:1729, (Gedeeltelijke) vernietiging en zelf afgedaan'"
      ]
     },
     "execution_count": 113,
     "metadata": {},
     "output_type": "execute_result"
    }
   ],
   "source": [
    "items[0].dl.find_all('dd')[2].text.lstrip().rstrip()"
   ]
  },
  {
   "cell_type": "code",
   "execution_count": 124,
   "metadata": {},
   "outputs": [],
   "source": [
    "comp_info['title'] = title"
   ]
  },
  {
   "cell_type": "code",
   "execution_count": 129,
   "metadata": {},
   "outputs": [
    {
     "data": {
      "text/plain": [
       "'ECLI:NL:RBDHA:2018:11961'"
      ]
     },
     "execution_count": 129,
     "metadata": {},
     "output_type": "execute_result"
    }
   ],
   "source": [
    "title.split()[0]"
   ]
  },
  {
   "cell_type": "code",
   "execution_count": null,
   "metadata": {},
   "outputs": [],
   "source": [
    "def getpage(url) :\n",
    "    \n",
    "    driver = webdriver.Chrome()\n",
    "    driver.get(url)\n",
    "    time.sleep(2)\n",
    "\n",
    "def click_load_more() :\n",
    "    \n",
    "    while True :\n",
    "    try :\n",
    "        loadmorebutton = driver.find_element_by_xpath('//*[@id=\"laadmeer\"]')\n",
    "        time.sleep(.1)\n",
    "        loadmorebutton.click()\n",
    "        time.sleep(.1)\n",
    "        loadmorebutton.click()\n",
    "    except Exception as e :\n",
    "        print(e)\n",
    "        break\n",
    "\n"
   ]
  }
 ],
 "metadata": {
  "kernelspec": {
   "display_name": "Python 3",
   "language": "python",
   "name": "python3"
  },
  "language_info": {
   "codemirror_mode": {
    "name": "ipython",
    "version": 3
   },
   "file_extension": ".py",
   "mimetype": "text/x-python",
   "name": "python",
   "nbconvert_exporter": "python",
   "pygments_lexer": "ipython3",
   "version": "3.7.6"
  }
 },
 "nbformat": 4,
 "nbformat_minor": 4
}
